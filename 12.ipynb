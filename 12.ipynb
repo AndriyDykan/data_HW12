{
 "cells": [
  {
   "cell_type": "code",
   "execution_count": 28,
   "id": "8d6ae61d-346e-4e84-8312-5eeab5f0ad29",
   "metadata": {},
   "outputs": [
    {
     "name": "stdout",
     "output_type": "stream",
     "text": [
      "summary ['Other notable engineering achievements of the orbiter included the first reusable orbital propulsion system, and the first two-fault-tolerant Integrated Avionics System.', 'She flew the first and last dedicated Department of Defense (DoD) missions, as well as the first unclassified defense-related mission.', 'She was the first orbiter to dock to the ISS, and the first to perform an exchange of a resident crew.', 'As Hale stated, the Space Shuttle remains “the largest, fastest, winged hypersonic aircraft in history,” having regularly flown at twenty-five times the speed of sound.', 'Discovery also carried the Hubble Space Telescope to orbitand performed two of the five servicing missions to the observatory.', 'Unlike the Mercury, Gemini, and Apollo programs, the SSP’s emphasis was on cost effectiveness and reusability,and eventually the construction of a space station.', 'Because it has achieved significance within the past fifty years, Criteria Consideration G applies.', 'She had the honor of being chosen as theReturn to Flight vehicle after both the Challenger and Columbia accidents.', 'Under Criterion C, Discovery is significant as a feat of engineering.']\n"
     ]
    }
   ],
   "source": [
    "import spacy\n",
    "import nltk\n",
    "from nltk.corpus import stopwords\n",
    "from nltk.tokenize import word_tokenize, sent_tokenize\n",
    "import string\n",
    "from heapq import nlargest\n",
    "\n",
    "nlp = spacy.load('en_core_web_sm')\n",
    "text = \"The Orbiter Discovery, OV-103, is considered eligible for listing in the National Register of Historic Places\\\n",
    "(NRHP) in the context of the U.S. Space Shuttle Program (1969-2011) under Criterion A in the areas of Space Exploration\\\n",
    "and Transportation and under Criterion C in the area of Engineering. Because it has achieved significance within the past \\\n",
    "fifty years, Criteria Consideration G applies. Under Criterion A, Discovery is significant as the oldest of the three extant orbiter\\\n",
    "vehicles constructed for the Space Shuttle Program (SSP), the longest running American space program to date; she was the third of\\\n",
    "five orbiters built by NASA. Unlike the Mercury, Gemini, and Apollo programs, the SSP’s emphasis was on cost effectiveness and reusability,\\\n",
    "and eventually the construction of a space station. Including her maiden voyage (launched August 30, 1984), Discovery flew to space thirty-nine\\\n",
    "times, more than any of the other four orbiters; she was also the first orbiter to fly twenty missions. She had the honor of being chosen as the\\\n",
    "Return to Flight vehicle after both the Challenger and Columbia accidents. Discovery was the first shuttle to fly with the redesigned SRBs, a result\\\n",
    "of the Challenger accident, and the first shuttle to fly with the Phase II and Block I SSME. Discovery also carried the Hubble Space Telescope to orbit\\\n",
    "and performed two of the five servicing missions to the observatory. She flew the first and last dedicated Department of Defense (DoD) missions, as well \\\n",
    "as the first unclassified defense-related mission. In addition, Discovery was vital to the construction of the International Space Station (ISS); she flew\\\n",
    "thirteen of the thirty-seven total missions flown to the station by a U.S. Space Shuttle. She was the first orbiter to dock to the ISS, and the first to \\\n",
    "perform an exchange of a resident crew. Under Criterion C, Discovery is significant as a feat of engineering. According to Wayne Hale, a flight director \\\n",
    "from Johnson Space Center, the Space Shuttle orbiter represents a “huge technological leap from expendable rockets and capsules to a reusable, winged, \\\n",
    "hypersonic, cargo-carrying spacecraft.” Although her base structure followed a conventional aircraft design, she used advanced materials that both minimized\\\n",
    "her weight for cargo-carrying purposes and featured low thermal expansion ratios, which provided a stable base for her Thermal Protection System (TPS) materials.\\\n",
    "The Space Shuttle orbiter also featured the first reusable TPS; all previous spaceflight vehicles had a single-use, ablative heat shield. Other notable engineering \\\n",
    "achievements of the orbiter included the first reusable orbital propulsion system, and the first two-fault-tolerant Integrated Avionics System. As Hale stated, the \\\n",
    "Space Shuttle remains “the largest, fastest, winged hypersonic aircraft in history,” having regularly flown at twenty-five times the speed of sound.\"\n",
    "\n",
    "# Tokenization\n",
    "doc = nlp(text)\n",
    "tokens = [token.text for token in doc]\n",
    "\n",
    "\n",
    "# Tokenization using NLTK\n",
    "tokens = word_tokenize(text)\n",
    "sentences = sent_tokenize(text)\n",
    "\n",
    "# Load stopwords and punctuation\n",
    "stop_words = set(stopwords.words('english'))\n",
    "punctuation = string.punctuation + '\\n'\n",
    "\n",
    "# Calculate word frequencies\n",
    "word_frequencies = {}\n",
    "for word in doc:\n",
    "    if word.text.lower() not in stop_words and word.text.lower() not in punctuation:\n",
    "        if word.text not in word_frequencies.keys():\n",
    "            word_frequencies[word.text] = 1\n",
    "        else:\n",
    "            word_frequencies[word.text] += 1\n",
    "\n",
    "# Calculate sentence scores based on word frequencies\n",
    "sentence_scores = {}\n",
    "for sentence in sentences:\n",
    "    for word in nltk.word_tokenize(sentence.lower()):\n",
    "        if word in word_frequencies.keys():\n",
    "            if len(sentence.split(' ')) < 30:\n",
    "                if sentence not in sentence_scores.keys():\n",
    "                    sentence_scores[sentence] = word_frequencies[word]\n",
    "                else:\n",
    "                    sentence_scores[sentence] += word_frequencies[word]\n",
    "\n",
    "# Get the summary\n",
    "select_length = int(len(sentences))\n",
    "summary = nlargest(select_length, sentence_scores, key=sentence_scores.get)\n",
    "print(\"summary\",summary)\n"
   ]
  },
  {
   "cell_type": "code",
   "execution_count": null,
   "id": "24229922-5433-4935-a58f-8e27bffcbf9a",
   "metadata": {},
   "outputs": [],
   "source": []
  }
 ],
 "metadata": {
  "kernelspec": {
   "display_name": "Python 3 (ipykernel)",
   "language": "python",
   "name": "python3"
  },
  "language_info": {
   "codemirror_mode": {
    "name": "ipython",
    "version": 3
   },
   "file_extension": ".py",
   "mimetype": "text/x-python",
   "name": "python",
   "nbconvert_exporter": "python",
   "pygments_lexer": "ipython3",
   "version": "3.11.8"
  }
 },
 "nbformat": 4,
 "nbformat_minor": 5
}
